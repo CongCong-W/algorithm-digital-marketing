{
 "cells": [
  {
   "cell_type": "markdown",
   "metadata": {},
   "source": [
    "# Edit Your Expectation Suite\n",
    "Use this notebook to recreate and modify your expectation suite:\n",
    "\n",
    "**Expectation Suite Name**: `instrumental_data.demo`\n"
   ]
  },
  {
   "cell_type": "code",
   "execution_count": 1,
   "metadata": {},
   "outputs": [
    {
     "name": "stdout",
     "output_type": "stream",
     "text": [
      "2022-09-24T15:15:33-0400 - INFO - Great Expectations logging enabled at 20 level by JupyterUX module.\n",
      "Loaded ExpectationSuite \"instrumental_data.demo\" containing 0 expectations.\n"
     ]
    }
   ],
   "source": [
    "import datetime\n",
    "\n",
    "import pandas as pd\n",
    "\n",
    "import great_expectations as ge\n",
    "import great_expectations.jupyter_ux\n",
    "from great_expectations.core.expectation_configuration import ExpectationConfiguration\n",
    "from great_expectations.data_context.types.resource_identifiers import ExpectationSuiteIdentifier\n",
    "from great_expectations.exceptions import DataContextError\n",
    "\n",
    "context = ge.data_context.DataContext()\n",
    "\n",
    "\n",
    "# Feel free to change the name of your suite here. Renaming this will not remove the other one.\n",
    "expectation_suite_name = \"instrumental_data.demo\"\n",
    "try:\n",
    "    suite = context.get_expectation_suite(expectation_suite_name=expectation_suite_name)\n",
    "    print(f'Loaded ExpectationSuite \"{suite.expectation_suite_name}\" containing {len(suite.expectations)} expectations.')\n",
    "except DataContextError:\n",
    "    suite = context.create_expectation_suite(expectation_suite_name=expectation_suite_name)\n",
    "    print(f'Created ExpectationSuite \"{suite.expectation_suite_name}\".')"
   ]
  },
  {
   "cell_type": "markdown",
   "metadata": {},
   "source": [
    "## Create & Edit Expectations\n",
    "\n",
    "\n",
    "You are adding Expectation configurations to the suite. Since you selected manual mode, there is no sample batch of data and no validation happens during this process. See our documentation for more info and examples: **[How to create a new Expectation Suite without a sample batch](https://docs.greatexpectations.io/docs/guides/expectations/how_to_create_and_edit_expectations_based_on_domain_knowledge_without_inspecting_data_directly)**.\n",
    "\n",
    "Note that if you do use interactive mode you may specify a sample batch of data to use when creating your Expectation Suite. You can then use a `validator` to get immediate feedback on your Expectations against your specified sample batch.\n",
    "\n",
    "\n",
    "You can see all the available expectations in the **[expectation gallery](https://greatexpectations.io/expectations)**."
   ]
  },
  {
   "cell_type": "markdown",
   "metadata": {},
   "source": [
    "### Table Expectation(s)"
   ]
  },
  {
   "cell_type": "markdown",
   "metadata": {},
   "source": [
    "No table level expectations are in this suite. Feel free to add some here.\n"
   ]
  },
  {
   "cell_type": "code",
   "execution_count": 2,
   "metadata": {},
   "outputs": [
    {
     "data": {
      "text/plain": [
       "{\"expectation_type\": \"expect_table_columns_to_match_ordered_list\", \"meta\": {\"notes\": {\"format\": \"markdown\", \"content\": \"Some clever comment about this expectation. **Markdown** `Supported`\"}}, \"kwargs\": {\"column_list\": [\"marketplace\", \"product_id\", \"customer_id\", \"product_title\", \"product_category\"]}}"
      ]
     },
     "execution_count": 2,
     "metadata": {},
     "output_type": "execute_result"
    },
    {
     "name": "stderr",
     "output_type": "stream",
     "text": [
      "/usr/local/lib/python3.8/site-packages/ipykernel/ipkernel.py:287: DeprecationWarning: `should_run_async` will not call `transform_cell` automatically in the future. Please pass the result to `transformed_cell` argument and any exception that happen during thetransform in `preprocessing_exc_tuple` in IPython 7.17 and above.\n",
      "  and should_run_async(code)\n"
     ]
    }
   ],
   "source": [
    "expectation_configuration = ExpectationConfiguration(\n",
    "   # Name of expectation type being added\n",
    "   expectation_type=\"expect_table_columns_to_match_ordered_list\",\n",
    "   # These are the arguments of the expectation\n",
    "   # The keys allowed in the dictionary are Parameters and\n",
    "   # Keyword Arguments of this Expectation Type\n",
    "   kwargs={\n",
    "      \"column_list\": [\n",
    "         \"marketplace\", \"product_id\", \"customer_id\", \"product_title\", \"product_category\"\n",
    "      ]\n",
    "   },\n",
    "   # This is how you can optionally add a comment about this expectation.\n",
    "   # It will be rendered in Data Docs.\n",
    "   # See this guide for details:\n",
    "   # `How to add comments to Expectations and display them in Data Docs`.\n",
    "   meta={\n",
    "      \"notes\": {\n",
    "         \"format\": \"markdown\",\n",
    "         \"content\": \"Some clever comment about this expectation. **Markdown** `Supported`\"\n",
    "      }\n",
    "   }\n",
    ")\n",
    "# Add the Expectation to the suite\n",
    "suite.add_expectation(expectation_configuration=expectation_configuration)"
   ]
  },
  {
   "cell_type": "markdown",
   "metadata": {},
   "source": [
    "### Column Expectation(s)"
   ]
  },
  {
   "cell_type": "markdown",
   "metadata": {},
   "source": [
    "No column level expectations are in this suite. Feel free to add some here.\n"
   ]
  },
  {
   "cell_type": "code",
   "execution_count": 5,
   "metadata": {},
   "outputs": [
    {
     "data": {
      "text/plain": [
       "{\"expectation_type\": \"expect_column_values_to_be_in_set\", \"meta\": {}, \"kwargs\": {\"column\": \"verified_purchase\", \"value_set\": [\"N\", \"Y\"]}}"
      ]
     },
     "execution_count": 5,
     "metadata": {},
     "output_type": "execute_result"
    }
   ],
   "source": [
    "expectation_configuration = ExpectationConfiguration(\n",
    "   expectation_type=\"expect_column_values_to_be_in_set\",\n",
    "   kwargs={\n",
    "      \"column\": \"verified_purchase\",\n",
    "      \"value_set\": [\"N\", \"Y\"]\n",
    "   },\n",
    "   # Note optional comments omitted\n",
    ")\n",
    "suite.add_expectation(expectation_configuration=expectation_configuration)"
   ]
  },
  {
   "cell_type": "code",
   "execution_count": 6,
   "metadata": {},
   "outputs": [
    {
     "data": {
      "text/plain": [
       "{\"expectation_type\": \"expect_column_values_to_not_be_null\", \"meta\": {\"notes\": {\"format\": \"markdown\", \"content\": \"Some clever comment about this expectation. **Markdown** `Supported`\"}}, \"kwargs\": {\"column\": \"product_id\", \"mostly\": 1.0}}"
      ]
     },
     "execution_count": 6,
     "metadata": {},
     "output_type": "execute_result"
    }
   ],
   "source": [
    "expectation_configuration = ExpectationConfiguration(\n",
    "   expectation_type=\"expect_column_values_to_not_be_null\",\n",
    "   kwargs={\n",
    "      \"column\": \"product_id\",\n",
    "      \"mostly\": 1.0,\n",
    "   },\n",
    "   meta={\n",
    "      \"notes\": {\n",
    "         \"format\": \"markdown\",\n",
    "         \"content\": \"Some clever comment about this expectation. **Markdown** `Supported`\"\n",
    "      }\n",
    "   }\n",
    ")\n",
    "suite.add_expectation(expectation_configuration=expectation_configuration)"
   ]
  },
  {
   "cell_type": "code",
   "execution_count": 7,
   "metadata": {},
   "outputs": [
    {
     "data": {
      "text/plain": [
       "{\"expectation_type\": \"expect_column_values_to_be_between\", \"meta\": {\"notes\": {\"format\": \"markdown\", \"content\": \"Some clever comment about this expectation. **Markdown** `Supported`\"}}, \"kwargs\": {\"column\": \"star_rating\", \"min_value\": 1.0, \"max_value\": 5.0}}"
      ]
     },
     "execution_count": 7,
     "metadata": {},
     "output_type": "execute_result"
    }
   ],
   "source": [
    "#expect_column_values_to_be_between\n",
    "expectation_configuration = ExpectationConfiguration(\n",
    "   expectation_type=\"expect_column_values_to_be_between\",\n",
    "   kwargs={\n",
    "      \"column\": \"star_rating\",\n",
    "      \"min_value\": 1.0,\n",
    "      \"max_value\": 5.0\n",
    "   },\n",
    "   meta={\n",
    "      \"notes\": {\n",
    "         \"format\": \"markdown\",\n",
    "         \"content\": \"Some clever comment about this expectation. **Markdown** `Supported`\"\n",
    "      }\n",
    "   }\n",
    ")\n",
    "suite.add_expectation(expectation_configuration=expectation_configuration)"
   ]
  },
  {
   "cell_type": "code",
   "execution_count": 8,
   "metadata": {},
   "outputs": [
    {
     "name": "stderr",
     "output_type": "stream",
     "text": [
      "<>:5: DeprecationWarning: invalid escape sequence \\d\n",
      "<>:5: DeprecationWarning: invalid escape sequence \\d\n",
      "<ipython-input-8-784d5e53f17c>:5: DeprecationWarning: invalid escape sequence \\d\n",
      "  \"regex_list\": [\"\\d+\"],\n"
     ]
    },
    {
     "data": {
      "text/plain": [
       "{\"expectation_type\": \"expect_column_values_to_be_between\", \"meta\": {\"notes\": {\"format\": \"markdown\", \"content\": \"Some clever comment about this expectation. **Markdown** `Supported`\"}}, \"kwargs\": {\"column\": \"product_id\", \"regex_list\": [\"\\\\d+\"]}}"
      ]
     },
     "execution_count": 8,
     "metadata": {},
     "output_type": "execute_result"
    }
   ],
   "source": [
    "expectation_configuration = ExpectationConfiguration(\n",
    "   expectation_type=\"expect_column_values_to_be_between\",\n",
    "   kwargs={\n",
    "      \"column\": \"product_id\",\n",
    "      \"regex_list\": [\"\\d+\"],\n",
    "   },\n",
    "   meta={\n",
    "      \"notes\": {\n",
    "         \"format\": \"markdown\",\n",
    "         \"content\": \"Some clever comment about this expectation. **Markdown** `Supported`\"\n",
    "      }\n",
    "   }\n",
    ")\n",
    "suite.add_expectation(expectation_configuration=expectation_configuration)"
   ]
  },
  {
   "cell_type": "markdown",
   "metadata": {},
   "source": [
    "## Review & Save Your Expectations\n",
    "\n",
    "Let's save the expectation suite as a JSON file in the `great_expectations/expectations` directory of your project.\n",
    "\n",
    "Let's now rebuild your Data Docs, which helps you communicate about your data with both machines and humans."
   ]
  },
  {
   "cell_type": "code",
   "execution_count": 9,
   "metadata": {},
   "outputs": [
    {
     "name": "stdout",
     "output_type": "stream",
     "text": [
      "{\n",
      "  \"expectations\": [],\n",
      "  \"ge_cloud_id\": null,\n",
      "  \"data_asset_type\": null,\n",
      "  \"meta\": {\n",
      "    \"great_expectations_version\": \"0.15.23\"\n",
      "  },\n",
      "  \"expectation_suite_name\": \"instrumental_data.demo\"\n",
      "}\n"
     ]
    }
   ],
   "source": [
    "print(context.get_expectation_suite(expectation_suite_name=expectation_suite_name))\n",
    "context.save_expectation_suite(expectation_suite=suite, expectation_suite_name=expectation_suite_name)\n",
    "\n",
    "suite_identifier = ExpectationSuiteIdentifier(expectation_suite_name=expectation_suite_name)\n",
    "context.build_data_docs(resource_identifiers=[suite_identifier])\n",
    "context.open_data_docs(resource_identifier=suite_identifier)"
   ]
  },
  {
   "cell_type": "code",
   "execution_count": null,
   "metadata": {},
   "outputs": [],
   "source": []
  }
 ],
 "metadata": {
  "kernelspec": {
   "display_name": "Python 3",
   "language": "python",
   "name": "python3"
  },
  "language_info": {
   "codemirror_mode": {
    "name": "ipython",
    "version": 3
   },
   "file_extension": ".py",
   "mimetype": "text/x-python",
   "name": "python",
   "nbconvert_exporter": "python",
   "pygments_lexer": "ipython3",
   "version": "3.8.5"
  }
 },
 "nbformat": 4,
 "nbformat_minor": 4
}
